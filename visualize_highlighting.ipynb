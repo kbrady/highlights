{
 "cells": [
  {
   "cell_type": "code",
   "execution_count": 111,
   "metadata": {
    "collapsed": false
   },
   "outputs": [],
   "source": [
    "import csv\n",
    "from collections import namedtuple\n",
    "\n",
    "file_1 = '../TIPs_middle_school_stimuli/content/womens_suffrage_1.md'\n",
    "file_2 = '../TIPs_middle_school_stimuli/content/womens_suffrage_2.md'\n",
    "highlight_info = 'undergrad_student_participants/highlights.csv'\n",
    "\n",
    "def get_lines(filename):\n",
    "    line_list = []\n",
    "    with open(filename, 'r') as open_file:\n",
    "        line_list = [line for line in open_file]\n",
    "    return line_list\n",
    "\n",
    "file_1_lines = get_lines(file_1)\n",
    "file_2_lines = get_lines(file_2)"
   ]
  },
  {
   "cell_type": "code",
   "execution_count": 112,
   "metadata": {
    "collapsed": false
   },
   "outputs": [],
   "source": [
    "data = []\n",
    "\n",
    "with open(highlight_info, 'r') as input_file:\n",
    "    reader = csv.reader(input_file, delimiter=',', quotechar='\"')\n",
    "    row_class = None\n",
    "    for row in reader:\n",
    "        if row_class is None:\n",
    "            row_class = namedtuple('row_class', row)\n",
    "            continue\n",
    "        try:\n",
    "            data.append(row_class(*tuple(row)))\n",
    "        except Exception as e:\n",
    "            print row\n",
    "            raise e"
   ]
  },
  {
   "cell_type": "code",
   "execution_count": 113,
   "metadata": {
    "collapsed": false
   },
   "outputs": [],
   "source": [
    "def to_key(x):\n",
    "    return (int(x.Participant), x.Condition, int(x.Part))\n",
    "\n",
    "keys = set([to_key(x) for x in data])"
   ]
  },
  {
   "cell_type": "code",
   "execution_count": 114,
   "metadata": {
    "collapsed": false
   },
   "outputs": [],
   "source": [
    "data_dict = {}\n",
    "for k in keys:\n",
    "    data_dict[k] = [x.Highlight for x in data if to_key(x) == k]"
   ]
  },
  {
   "cell_type": "code",
   "execution_count": 115,
   "metadata": {
    "collapsed": false
   },
   "outputs": [],
   "source": [
    "def get_indexes(key, snippets):\n",
    "    lines_list = file_1_lines if key[2] == 1 else file_2_lines\n",
    "    snippet_indexes = []\n",
    "    snippet_index = 0\n",
    "    snip = snippets[snippet_index].strip()\n",
    "    for list_index in range(len(lines_list)):\n",
    "        line = lines_list[list_index]\n",
    "        offset = 0\n",
    "        find_snip = line.find(snip)\n",
    "        while find_snip > -1:\n",
    "            index = (list_index, find_snip+offset, find_snip+offset+len(snip))\n",
    "            snippet_indexes.append(index)\n",
    "            offset += find_snip+len(snip)\n",
    "            line = line[find_snip+len(snip):]\n",
    "            # look for next snippet\n",
    "            snippet_index += 1\n",
    "            if snippet_index >= len(snippets):\n",
    "                return snippet_indexes\n",
    "            snip = snippets[snippet_index].strip()\n",
    "            find_snip = line.find(snip)\n",
    "    if len(snippet_indexes) != snippets:\n",
    "        print key\n",
    "        print snippet_indexes\n",
    "        raise Exception(\"Couldn't find \"+str(snip))\n",
    "    return snippet_indexes"
   ]
  },
  {
   "cell_type": "code",
   "execution_count": 128,
   "metadata": {
    "collapsed": false
   },
   "outputs": [],
   "source": [
    "from collections import defaultdict\n",
    "\n",
    "def build_indexes(data_dict):\n",
    "    all_indexes = {1: defaultdict(list), 2: defaultdict(list)}\n",
    "    for key in data_dict:\n",
    "        file_index = key[2]\n",
    "        index_list = get_indexes(key, data_dict[key])\n",
    "        for index in index_list:\n",
    "            line_index, start, end = index\n",
    "            all_indexes[file_index][line_index] += [(start, (key[0], key[1], 'start')), (end, (key[0], key[1], 'end'))]\n",
    "    for file_index in [1,2]:\n",
    "        for line in all_indexes[file_index]:\n",
    "            all_indexes[file_index][line].sort()\n",
    "    return all_indexes\n",
    "\n",
    "all_indexes = build_indexes(data_dict)"
   ]
  },
  {
   "cell_type": "code",
   "execution_count": 129,
   "metadata": {
    "collapsed": false
   },
   "outputs": [],
   "source": [
    "def write_files():\n",
    "    for file_index in [1,2]:\n",
    "        file_list = file_1_lines if file_index == 1 else file_2_lines\n",
    "        with open('file_'+str(file_index)+'.md', 'w') as output_file:\n",
    "            for line_index in range(len(file_list)):\n",
    "                if line_index in all_indexes[file_index]:\n",
    "                    old_index = 0\n",
    "                    for value in all_indexes[file_index][line_index]:\n",
    "                        text = file_list[line_index][old_index:value[0]]\n",
    "                        if value[1][2] == 'start':\n",
    "                            tag = '<highlight class=\"participant_'+str(value[1][0])+' '+value[1][1]+'\">'\n",
    "                        else:\n",
    "                            tag = '</highlight>'\n",
    "                        output_file.write(text+tag)\n",
    "                        old_index = value[0]\n",
    "                    text = file_list[line_index][old_index:]\n",
    "                    output_file.write(text)\n",
    "                else:\n",
    "                    output_file.write(file_list[line_index])\n",
    "\n",
    "write_files()"
   ]
  },
  {
   "cell_type": "code",
   "execution_count": 125,
   "metadata": {
    "collapsed": false
   },
   "outputs": [
    {
     "data": {
      "text/plain": [
       "[(6, (3, 'paper', 'end')),\n",
       " (6, (3, 'paper', 'start')),\n",
       " (6, (7, 'paper', 'end')),\n",
       " (6, (7, 'paper', 'start')),\n",
       " (49, (3, 'paper', 'end')),\n",
       " (49, (3, 'paper', 'start'))]"
      ]
     },
     "execution_count": 125,
     "metadata": {},
     "output_type": "execute_result"
    }
   ],
   "source": [
    "all_indexes[1][4]"
   ]
  },
  {
   "cell_type": "code",
   "execution_count": 127,
   "metadata": {
    "collapsed": false
   },
   "outputs": [
    {
     "data": {
      "text/plain": [
       "[(4, 6, 41),\n",
       " (4, 49, 71),\n",
       " (6, 102, 115),\n",
       " (6, 147, 166),\n",
       " (6, 256, 295),\n",
       " (6, 301, 386),\n",
       " (8, 13, 44),\n",
       " (8, 65, 86),\n",
       " (8, 91, 123),\n",
       " (8, 147, 156),\n",
       " (8, 199, 245),\n",
       " (8, 251, 265),\n",
       " (8, 280, 350),\n",
       " (8, 363, 418),\n",
       " (8, 443, 484),\n",
       " (8, 519, 541),\n",
       " (10, 56, 104),\n",
       " (10, 110, 127),\n",
       " (10, 145, 149),\n",
       " (10, 151, 199),\n",
       " (10, 205, 245),\n",
       " (18, 52, 56),\n",
       " (18, 62, 87),\n",
       " (18, 136, 158),\n",
       " (18, 202, 260),\n",
       " (18, 332, 362),\n",
       " (18, 378, 396),\n",
       " (18, 440, 533),\n",
       " (20, 38, 86),\n",
       " (20, 227, 294),\n",
       " (20, 334, 389)]"
      ]
     },
     "execution_count": 127,
     "metadata": {},
     "output_type": "execute_result"
    }
   ],
   "source": [
    "key = (3, 'paper', 1)\n",
    "get_indexes(key, data_dict[key])"
   ]
  },
  {
   "cell_type": "code",
   "execution_count": 130,
   "metadata": {
    "collapsed": false
   },
   "outputs": [
    {
     "data": {
      "text/plain": [
       "Counter({'1': 8, '2': 9, '3': 52, '4': 11, '6': 19, '7': 41, '8': 16})"
      ]
     },
     "execution_count": 130,
     "metadata": {},
     "output_type": "execute_result"
    }
   ],
   "source": [
    "from collections import Counter\n",
    "\n",
    "Counter([x.Participant for x in data])"
   ]
  },
  {
   "cell_type": "code",
   "execution_count": null,
   "metadata": {
    "collapsed": true
   },
   "outputs": [],
   "source": []
  }
 ],
 "metadata": {
  "kernelspec": {
   "display_name": "Python 2",
   "language": "python",
   "name": "python2"
  },
  "language_info": {
   "codemirror_mode": {
    "name": "ipython",
    "version": 2
   },
   "file_extension": ".py",
   "mimetype": "text/x-python",
   "name": "python",
   "nbconvert_exporter": "python",
   "pygments_lexer": "ipython2",
   "version": "2.7.12"
  }
 },
 "nbformat": 4,
 "nbformat_minor": 0
}
